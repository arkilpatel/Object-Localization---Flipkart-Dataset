{
 "cells": [
  {
   "cell_type": "code",
   "execution_count": 0,
   "metadata": {
    "colab": {},
    "colab_type": "code",
    "id": "eP8LlqgHRrFn"
   },
   "outputs": [],
   "source": [
    "from google.colab import drive\n",
    "drive.mount('/content/drive')"
   ]
  },
  {
   "cell_type": "code",
   "execution_count": 0,
   "metadata": {
    "colab": {},
    "colab_type": "code",
    "id": "-MKfuetFRxEQ"
   },
   "outputs": [],
   "source": [
    "import pickle\n",
    "with open('/content/drive/My Drive/Flipkart/output.bin', 'rb') as f:\n",
    "    imgs = pickle.load(f)"
   ]
  },
  {
   "cell_type": "code",
   "execution_count": 0,
   "metadata": {
    "colab": {},
    "colab_type": "code",
    "id": "0RFPlnaZRxIp"
   },
   "outputs": [],
   "source": [
    "path = '/content/drive/My Drive/Flipkart/'"
   ]
  },
  {
   "cell_type": "code",
   "execution_count": 0,
   "metadata": {
    "colab": {},
    "colab_type": "code",
    "id": "4Cc5fvmpRxKy"
   },
   "outputs": [],
   "source": [
    "import numpy as np\n",
    "from keras import layers\n",
    "from keras.layers import Input, Dense, Activation, ZeroPadding2D, BatchNormalization, Flatten, Conv2D,Lambda\n",
    "from keras.layers import AveragePooling2D, MaxPooling2D, Dropout, GlobalMaxPooling2D, GlobalAveragePooling2D,UpSampling2D,Concatenate,Conv2DTranspose\n",
    "from keras.layers import Conv2D, Flatten, Dense, MaxPool2D,MaxPooling2D, Activation, Dropout, BatchNormalization, Input\n",
    "from keras.models import Model,Sequential\n",
    "from keras.preprocessing import image\n",
    "from keras.utils import layer_utils\n",
    "from keras.utils.data_utils import get_file\n",
    "from keras.applications.imagenet_utils import preprocess_input\n",
    "from keras.models import load_model\n",
    "from keras.callbacks import ModelCheckpoint\n",
    "#import pydot\n",
    "from IPython.display import SVG\n",
    "from keras.utils.vis_utils import model_to_dot\n",
    "from keras.utils import plot_model\n",
    "from keras.callbacks import LearningRateScheduler,Callback\n",
    "from keras.optimizers import RMSprop\n",
    "import glob\n",
    "import cv2\n",
    "import os\n",
    "from math import *\n",
    "from keras.applications.vgg16 import VGG16 \n",
    "import keras.backend as K\n",
    "K.set_image_data_format('channels_last')\n",
    "import matplotlib.pyplot as plt\n",
    "from matplotlib.pyplot import imshow\n",
    "import h5py\n",
    "from keras.utils import to_categorical\n",
    "from IPython.display import clear_output\n",
    "from sklearn.model_selection import train_test_split\n",
    "from sklearn import datasets\n",
    "from sklearn import svm\n",
    "from keras.preprocessing.image import ImageDataGenerator\n",
    "from skimage import measure\n",
    "from skimage.transform import rotate\n",
    "import tensorflow as tf\n",
    "from imutils import contours\n",
    "import imutils\n",
    "import os\n",
    "import numpy as np\n",
    "import pandas as pd\n",
    "import matplotlib.pyplot as plt\n",
    "\n",
    "%matplotlib inline"
   ]
  },
  {
   "cell_type": "code",
   "execution_count": 0,
   "metadata": {
    "colab": {},
    "colab_type": "code",
    "id": "yEw1XbgmRxNH"
   },
   "outputs": [],
   "source": [
    "df_train = pd.read_csv(path+\"training.csv\")\n",
    "df_test = pd.read_csv(path+\"test.csv\")"
   ]
  },
  {
   "cell_type": "code",
   "execution_count": 0,
   "metadata": {
    "colab": {},
    "colab_type": "code",
    "id": "JyeUx0stRxPM"
   },
   "outputs": [],
   "source": [
    "cols = ['x1','x2','y1','y2']\n",
    "cords = df_train[cols]\n",
    "cords = np.asarray(cords)\n",
    "#cords_scaled = cords/5"
   ]
  },
  {
   "cell_type": "code",
   "execution_count": 0,
   "metadata": {
    "colab": {},
    "colab_type": "code",
    "id": "-h_3wgxmRxQ-"
   },
   "outputs": [],
   "source": [
    "#imgs = imgs/255\n",
    "cord_new_180 = np.array([0,0,0,0])\n",
    "cord_new_mirror = np.array([0,0,0,0])\n",
    "#print(cord_new.shape)\n",
    "for i in range(14000):\n",
    "    img = imgs[i]\n",
    "    new_img = imutils.rotate(img,180)\n",
    "    imgs.append(new_img)\n",
    "    cord_new_180[0] = 640 - cords[i][1]\n",
    "    cord_new_180[1] = 640 - cords[i][0]\n",
    "    cord_new_180[2] = 480 - cords[i][3]\n",
    "    cord_new_180[3] = 480 - cords[i][2]\n",
    "    cords = np.vstack([cords, cord_new_180])\n",
    "\n",
    "  #print(cord_new)\n",
    "\n",
    "for i in range(14000):\n",
    "    img = imgs[i]\n",
    "    fimg = cv2.flip(img,1)\n",
    "    imgs.append(fimg)\n",
    "    cord_new_mirror[0] = 640 - cords[i][1]\n",
    "    cord_new_mirror[1] = 640 - cords[i][0]\n",
    "    cord_new_mirror[2] = cords[i][2]\n",
    "    cord_new_mirror[3] = cords[i][3]\n",
    "    cords = np.vstack([cords, cord_new_mirror])"
   ]
  },
  {
   "cell_type": "code",
   "execution_count": 0,
   "metadata": {
    "colab": {},
    "colab_type": "code",
    "id": "JhujbXMXRxHH"
   },
   "outputs": [],
   "source": [
    "cords_scaled = cords/5\n",
    "imgs = np.asarray(imgs)\n",
    "print(imgs.shape)"
   ]
  },
  {
   "cell_type": "code",
   "execution_count": 0,
   "metadata": {
    "colab": {},
    "colab_type": "code",
    "id": "qOPkfL-mRxB7"
   },
   "outputs": [],
   "source": [
    "X_train,X_val,y_train,y_val = train_test_split(imgs,cords_scaled,test_size = 0.1,random_state=42)\n",
    "\n",
    "X_train = np.asarray(X_train)\n",
    "X_val = np.asarray(X_val)\n",
    "y_train = np.asarray(y_train)\n",
    "y_val = np.asarray(y_val)\n",
    "print(X_train.shape,X_val.shape,y_train.shape,y_val.shape)"
   ]
  },
  {
   "cell_type": "code",
   "execution_count": 0,
   "metadata": {
    "colab": {},
    "colab_type": "code",
    "id": "ZBxKOvNJSLQ6"
   },
   "outputs": [],
   "source": [
    "class LossHistory(Callback):\n",
    "    def on_train_begin(self,logs={}):\n",
    "        self.losses=[]\n",
    "        self.lr = []\n",
    "        \n",
    "    def on_epoch_end(self,batch,logs={}):\n",
    "        self.losses.append(logs.get('loss'))\n",
    "        self.lr.append(exp_decay(len(self.losses)))\n",
    "\n",
    "def exp_decay(epoch):\n",
    "    initial_lrate = 0.01\n",
    "    k = 0.1\n",
    "    lrate = initial_lrate * exp(-k*epoch)\n",
    "    return lrate\n",
    "\n",
    "lrate = LearningRateScheduler(exp_decay)\n",
    "\n",
    "class PlotLearning(Callback):\n",
    "    def on_train_begin(self, logs={}):\n",
    "        self.i = 0\n",
    "        self.x = []\n",
    "        self.losses = []\n",
    "        self.val_losses = []\n",
    "        self.IoU = []\n",
    "        self.val_IoU = []\n",
    "        self.fig = plt.figure()\n",
    "        \n",
    "        self.logs = []\n",
    "\n",
    "    def on_epoch_end(self, epoch, logs={}):\n",
    "        \n",
    "        self.logs.append(logs)\n",
    "        self.x.append(self.i)\n",
    "        self.losses.append(logs.get('loss'))\n",
    "        self.val_losses.append(logs.get('val_loss'))\n",
    "        self.IoU.append(logs.get('IoU'))\n",
    "        self.val_IoU.append(logs.get('val_IoU'))\n",
    "        self.i += 1\n",
    "        f, (ax1, ax2) = plt.subplots(1, 2, sharex=True)\n",
    "        \n",
    "        clear_output(wait=True)\n",
    "        \n",
    "        ax1.set_yscale('log')\n",
    "        ax1.plot(self.x, self.losses, label=\"loss\")\n",
    "        ax1.plot(self.x, self.val_losses, label=\"val_loss\")\n",
    "        ax1.legend()\n",
    "        \n",
    "        ax2.plot(self.x, self.IoU, label=\"IoU\")\n",
    "        ax2.plot(self.x, self.val_IoU, label=\"validation IoU\")\n",
    "        ax2.legend()\n",
    "        \n",
    "        plt.show();\n",
    "        \n",
    "plot = PlotLearning()\n",
    "\n",
    "loss_history = LossHistory()\n",
    "#callbacks_list = [loss_history,lrate,plot]\n",
    "callbacks_list = [loss_history,plot,ModelCheckpoint(path+'extra/custom_model_iou_2.{epoch:02d}-{val_loss:.2f}.h5',monitor = 'val_loss',verbose = 1,save_best_only=False,save_weights_only = False, mode = 'auto',period=5)]"
   ]
  },
  {
   "cell_type": "code",
   "execution_count": 0,
   "metadata": {
    "colab": {},
    "colab_type": "code",
    "id": "ydyduYQ2SLYE"
   },
   "outputs": [],
   "source": [
    "def calculate_iou(y_true, y_pred):\n",
    "    results = []\n",
    "    \n",
    "    for i in range(0,y_true.shape[0]):\n",
    "    \n",
    "        y_true = y_true.astype(np.float32)\n",
    "        y_pred = y_pred.astype(np.float32)\n",
    "\n",
    "        x1 = y_true[0,0] \n",
    "        x2 = y_true[0,1]\n",
    "        y1 = y_true[0,2]\n",
    "        y2 = y_true[0,3]\n",
    "        area_boxTrue = ((x2-x1) * (y2-y1))\n",
    "\n",
    "        x1p = y_pred[0,0]\n",
    "        x2p = y_pred[0,1]\n",
    "        y1p = y_pred[0,2]\n",
    "        y2p = y_pred[0,3]\n",
    "        area_boxPred = ((x2p-x1p) * (y2p-y1p))\n",
    "\n",
    "        x_boxTrue_br = x2\n",
    "        y_boxTrue_br = y2 \n",
    "\n",
    "        x_boxPred_br = x2p\n",
    "        y_boxPred_br = y2p \n",
    "\n",
    "        x_boxInt_tleft = np.max([x1,x1p])\n",
    "        y_boxInt_tleft = np.max([y1,y1p])\n",
    "\n",
    "        x_boxInt_br = np.min([x2,x2p])\n",
    "        y_boxInt_br = np.min([y2,y2p]) \n",
    "        \n",
    "        area_of_intersection = np.max([0,(x_boxInt_br - x_boxInt_tleft)]) * np.max([0,(y_boxInt_br - y_boxInt_tleft)])\n",
    "\n",
    "        iou = area_of_intersection / ((area_boxTrue + area_boxPred) - area_of_intersection)\n",
    "\n",
    "        iou = iou.astype(np.float32)\n",
    "        \n",
    "        results.append(iou)\n",
    "    \n",
    "    return np.mean(results)\n",
    "  \n",
    "def IoU(y_true, y_pred):\n",
    "    \n",
    "    iou = tf.py_func(calculate_iou, [y_true, y_pred], tf.float32)\n",
    "\n",
    "    return iou"
   ]
  },
  {
   "cell_type": "code",
   "execution_count": 0,
   "metadata": {
    "colab": {},
    "colab_type": "code",
    "id": "ueXFmKNlSLVx"
   },
   "outputs": [],
   "source": [
    "def locmodel():\n",
    "    model = Sequential()\n",
    "  \n",
    "    model.add(Conv2D(32, (3, 3), padding = 'same',strides=(1,1),kernel_initializer = 'he_uniform',input_shape=(96, 128, 3)))\n",
    "    model.add(BatchNormalization(axis = 3))\n",
    "    model.add(Activation('relu'))\n",
    "\n",
    "    #model.add(Conv2D(32, (3, 3),padding = 'same',strides=(1,1),kernel_initializer = 'he_uniform'))\n",
    "    #model.add(BatchNormalization(axis = 3))\n",
    "    #model.add(Activation('relu'))\n",
    "  \n",
    "    model.add(Conv2D(32, (3, 3), padding = 'same',strides=(1,1),kernel_initializer = 'he_uniform'))\n",
    "    model.add(BatchNormalization(axis = 3))\n",
    "    model.add(Activation('relu'))\n",
    "\n",
    "    model.add(MaxPool2D(pool_size=(2, 2)))\n",
    "    #model.add(Conv2D(96,(3,3),strides = 2))\n",
    "  \n",
    "    #model.add(Conv2D(64, (3, 3), padding = 'same',strides=(1,1),kernel_initializer = 'he_uniform'))\n",
    "    #model.add(BatchNormalization(axis = 3))\n",
    "    #model.add(Activation('relu'))\n",
    "\n",
    "    model.add(Conv2D(64, (3, 3), padding = 'same',strides=(1,1),kernel_initializer = 'he_uniform'))\n",
    "    model.add(BatchNormalization(axis = 3))\n",
    "    model.add(Activation('relu'))\n",
    "  \n",
    "    model.add(Conv2D(64, (3, 3), padding = 'same',strides=(1,1),kernel_initializer = 'he_uniform'))\n",
    "    model.add(BatchNormalization(axis = 3))\n",
    "    model.add(Activation('relu'))\n",
    "\n",
    "    model.add(MaxPool2D(pool_size=(2, 2)))\n",
    "    #model.add(Conv2D(192,(3,3),strides = 2))\n",
    "  \n",
    "    #model.add(Conv2D(128, (3, 3), padding = 'same',strides=(1,1),kernel_initializer = 'he_uniform'))\n",
    "    #model.add(BatchNormalization(axis = 3))\n",
    "    #model.add(Activation('relu'))\n",
    "  \n",
    "    model.add(Conv2D(128, (3, 3), padding = 'same',strides=(1,1),kernel_initializer = 'he_uniform'))\n",
    "    model.add(BatchNormalization(axis = 3))\n",
    "    model.add(Activation('relu'))\n",
    "  \n",
    "    model.add(Conv2D(128, (3, 3), padding = 'same',strides=(1,1),kernel_initializer = 'he_uniform'))\n",
    "    model.add(BatchNormalization(axis = 3))\n",
    "    model.add(Activation('relu'))\n",
    "\n",
    "    model.add(MaxPool2D(pool_size=(2, 2)))\n",
    "  \n",
    "    #model.add(Conv2D(256, (3, 3), padding = 'same',strides=(1,1),kernel_initializer = 'he_uniform'))\n",
    "    #model.add(BatchNormalization(axis = 3))\n",
    "    #model.add(Activation('relu'))\n",
    "\n",
    "    model.add(Conv2D(256, (3, 3), padding = 'same',strides=(1,1),kernel_initializer = 'he_uniform'))\n",
    "    model.add(BatchNormalization(axis = 3))\n",
    "    model.add(Activation('relu'))\n",
    "  \n",
    "    model.add(Conv2D(256, (3, 3), padding = 'same',strides=(1,1),kernel_initializer = 'he_uniform'))\n",
    "    model.add(BatchNormalization(axis = 3))\n",
    "    model.add(Activation('relu'))\n",
    "\n",
    "    model.add(MaxPool2D(pool_size=(2, 2)))\n",
    "  \n",
    "    model.add(Flatten())\n",
    "    model.add(Dense(128))\n",
    "    model.add(BatchNormalization())\n",
    "    model.add(Activation('relu'))\n",
    "\n",
    "    model.add(Dropout(0.1))\n",
    "  \n",
    "    model.add(Dense(4))\n",
    "    model.add(Activation('relu')) \n",
    "\n",
    "    model.compile(optimizer='adam', loss='mean_squared_error',metrics = [IoU])\n",
    "    print(model.summary())\n",
    "    \n",
    "    return model"
   ]
  },
  {
   "cell_type": "code",
   "execution_count": 0,
   "metadata": {
    "colab": {},
    "colab_type": "code",
    "id": "bzOZokPsSLUC"
   },
   "outputs": [],
   "source": [
    "locmodel = locmodel()"
   ]
  },
  {
   "cell_type": "code",
   "execution_count": 0,
   "metadata": {
    "colab": {},
    "colab_type": "code",
    "id": "GYrIxfzMSr15"
   },
   "outputs": [],
   "source": [
    "locmodel.fit(X_train,y_train,validation_data = (X_val,y_val),epochs=2,callbacks=callbacks_list,batch_size=8)\n",
    "#locmodel.save_weights(path+'custom_model_iou_2.hdf5')\n",
    "#locmodel.save(path+\"custom_model_iou_2.h5\")"
   ]
  },
  {
   "cell_type": "code",
   "execution_count": 0,
   "metadata": {
    "colab": {},
    "colab_type": "code",
    "id": "FQzekwPpSr4-"
   },
   "outputs": [],
   "source": [
    "with open('/content/drive/My Drive/Flipkart/output_test.bin', 'rb') as f:\n",
    "    imgs_test = pickle.load(f)\n",
    "    \n",
    "imgs_test = np.asarray(imgs_test)\n",
    "imgs_test.shape"
   ]
  },
  {
   "cell_type": "code",
   "execution_count": 0,
   "metadata": {
    "colab": {},
    "colab_type": "code",
    "id": "dHM2Hh4xSr8o"
   },
   "outputs": [],
   "source": [
    "predictions = locmodel.predict(imgs_test)"
   ]
  },
  {
   "cell_type": "code",
   "execution_count": 0,
   "metadata": {
    "colab": {},
    "colab_type": "code",
    "id": "sOdBZi-GSr61"
   },
   "outputs": [],
   "source": [
    "predictions_original = predictions*5"
   ]
  },
  {
   "cell_type": "code",
   "execution_count": 0,
   "metadata": {
    "colab": {},
    "colab_type": "code",
    "id": "DL37FDkKS-c6"
   },
   "outputs": [],
   "source": [
    "for i in range(len(predictions_original)):\n",
    "    predictions_original[i][0] = int(round(predictions_original[i][0]))\n",
    "    predictions_original[i][1] = int(round(predictions_original[i][1]))\n",
    "    predictions_original[i][2] = int(round(predictions_original[i][2]))\n",
    "    predictions_original[i][3] = int(round(predictions_original[i][3]))"
   ]
  },
  {
   "cell_type": "code",
   "execution_count": 0,
   "metadata": {
    "colab": {},
    "colab_type": "code",
    "id": "dj8_ayJMS-gS"
   },
   "outputs": [],
   "source": [
    "def make_rectangle(img,cords):\n",
    "    #print(cords)\n",
    "    x1 = int(round(cords[0]))\n",
    "    x2 = int(round(cords[1]))\n",
    "    y1 = int(round(cords[2]))\n",
    "    y2 = int(round(cords[3]))\n",
    "    #print(x1,y1,x2,y2)\n",
    "  \n",
    "    if x2==128:\n",
    "        x2 -= 1\n",
    "    if y2==96:\n",
    "        y2 -= 1\n",
    "    \n",
    "    img_new = img\n",
    "    \n",
    "    for i in range(x1,x2+1):\n",
    "        img_new[y1][i] = np.asarray([255,0,0])\n",
    "        img_new[y2][i] = np.asarray([255,0,0])\n",
    "    \n",
    "    for i in range(y1,y2+1):\n",
    "        img_new[i][x1] = np.asarray([255,0,0])\n",
    "        img_new[i][x2] = np.asarray([255,0,0])    \n",
    "    \n",
    "    return img_new"
   ]
  },
  {
   "cell_type": "code",
   "execution_count": 0,
   "metadata": {
    "colab": {},
    "colab_type": "code",
    "id": "Tr2yfsFITIXG"
   },
   "outputs": [],
   "source": [
    "i=1800\n",
    "img_new0 = make_rectangle(imgs_test[i],predictions[i])\n",
    "plt.imshow(img_new0)"
   ]
  },
  {
   "cell_type": "code",
   "execution_count": 0,
   "metadata": {
    "colab": {},
    "colab_type": "code",
    "id": "c5AOfKf2TMno"
   },
   "outputs": [],
   "source": [
    "df_test['x1'] = predictions_original[:,0]\n",
    "df_test['x2'] = predictions_original[:,1]\n",
    "df_test['y1'] = predictions_original[:,2]\n",
    "df_test['y2'] = predictions_original[:,3]\n",
    "df_test.head()"
   ]
  },
  {
   "cell_type": "code",
   "execution_count": 0,
   "metadata": {
    "colab": {},
    "colab_type": "code",
    "id": "wfoLGKerTMtg"
   },
   "outputs": [],
   "source": [
    "for i in range(len(df_test)):\n",
    "    if df_test['x2'][i]>640:\n",
    "        print(i)\n",
    "        df_test['x2'][i] = 640.0\n",
    "    \n",
    "for i in range(len(df_test)):\n",
    "    if df_test['y2'][i]>480:\n",
    "        print(i)\n",
    "        df_test['y2'][i] = 480.0"
   ]
  },
  {
   "cell_type": "code",
   "execution_count": 0,
   "metadata": {
    "colab": {},
    "colab_type": "code",
    "id": "6hleOaiGTTOi"
   },
   "outputs": [],
   "source": [
    "df_test.to_csv(path+\"submission.csv\",index=False)"
   ]
  }
 ],
 "metadata": {
  "colab": {
   "name": "Submission_Flipkart.ipynb",
   "provenance": [],
   "version": "0.3.2"
  },
  "kernelspec": {
   "display_name": "Python 3",
   "language": "python",
   "name": "python3"
  },
  "language_info": {
   "codemirror_mode": {
    "name": "ipython",
    "version": 3
   },
   "file_extension": ".py",
   "mimetype": "text/x-python",
   "name": "python",
   "nbconvert_exporter": "python",
   "pygments_lexer": "ipython3",
   "version": "3.6.7"
  }
 },
 "nbformat": 4,
 "nbformat_minor": 1
}
